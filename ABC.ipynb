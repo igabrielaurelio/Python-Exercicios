{
  "nbformat": 4,
  "nbformat_minor": 0,
  "metadata": {
    "colab": {
      "provenance": [],
      "authorship_tag": "ABX9TyN5YcH771q77c6Nu8Zjl8FA",
      "include_colab_link": true
    },
    "kernelspec": {
      "name": "python3",
      "display_name": "Python 3"
    },
    "language_info": {
      "name": "python"
    }
  },
  "cells": [
    {
      "cell_type": "markdown",
      "metadata": {
        "id": "view-in-github",
        "colab_type": "text"
      },
      "source": [
        "<a href=\"https://colab.research.google.com/github/igabrielaurelio/Python-Imersao/blob/main/ABC.ipynb\" target=\"_parent\"><img src=\"https://colab.research.google.com/assets/colab-badge.svg\" alt=\"Open In Colab\"/></a>"
      ]
    },
    {
      "cell_type": "code",
      "execution_count": null,
      "metadata": {
        "id": "y1WHYTSG3iTi"
      },
      "outputs": [],
      "source": [
        "from abc import ABC, abstractmethod"
      ]
    },
    {
      "cell_type": "code",
      "source": [
        "class veiculo(ABC):\n",
        "\n",
        "    @abstractmethod\n",
        "    def iniciar_veiculo(self):\n",
        "        pass\n",
        "\n",
        "    @abstractmethod\n",
        "    def parar_veiculo(self):\n",
        "        pass\n",
        "\n",
        "    @abstractmethod\n",
        "    def calcular_tarifa(self):\n",
        "        pass\n",
        "\n",
        "class onibus(veiculo):\n",
        "\n",
        "    def iniciar_veiculo(self):\n",
        "        return \"Onibus iniciado.\"\n",
        "\n",
        "    def parar_veiculo(self):\n",
        "        return \"Onibus parado.\"\n",
        "\n",
        "    def calcular_tarifa(self):\n",
        "        return int(4)\n",
        "\n",
        "class trem(veiculo):\n",
        "\n",
        "    def iniciar_veiculo(self):\n",
        "        return \"Trem em operacao\"\n",
        "\n",
        "    def parar_veiculo(self):\n",
        "        return \"Trem fora de operacao\"\n",
        "\n",
        "    def calcular_tarifa(self):\n",
        "        return float(5.50)\n",
        "\n",
        "class taxi(veiculo):\n",
        "\n",
        "    def iniciar_veiculo(self):\n",
        "        return \"Taxi disponivel para corrida.\"\n",
        "\n",
        "    def parar_veiculo(self):\n",
        "        return \"Taxi fora de servico.\"\n",
        "\n",
        "    def calcular_tarifa(self):\n",
        "        return float(2.50)"
      ],
      "metadata": {
        "id": "rP_W1XDv3mtf"
      },
      "execution_count": null,
      "outputs": []
    },
    {
      "cell_type": "code",
      "source": [
        "onibus_veiculo = onibus()\n",
        "print(onibus_veiculo.iniciar_veiculo())\n",
        "print(onibus_veiculo.parar_veiculo())\n",
        "print(onibus_veiculo.calcular_tarifa())"
      ],
      "metadata": {
        "colab": {
          "base_uri": "https://localhost:8080/"
        },
        "id": "vMSoqc-M3pBt",
        "outputId": "584394a9-f0e6-4f17-ffd0-5d37ed6efb2a"
      },
      "execution_count": null,
      "outputs": [
        {
          "output_type": "stream",
          "name": "stdout",
          "text": [
            "Onibus iniciado.\n",
            "Onibus parado.\n",
            "4\n"
          ]
        }
      ]
    },
    {
      "cell_type": "code",
      "source": [
        "trem_veiculo = trem()\n",
        "print(trem_veiculo.iniciar_veiculo())\n",
        "print(trem_veiculo.parar_veiculo())\n",
        "print(trem_veiculo.calcular_tarifa())"
      ],
      "metadata": {
        "colab": {
          "base_uri": "https://localhost:8080/"
        },
        "id": "GXhWsvIB3uKz",
        "outputId": "f89a2e86-77cf-409d-8b1e-6092e1e0815f"
      },
      "execution_count": null,
      "outputs": [
        {
          "output_type": "stream",
          "name": "stdout",
          "text": [
            "Trem em operacao\n",
            "Trem fora de operacao\n",
            "5.5\n"
          ]
        }
      ]
    },
    {
      "cell_type": "code",
      "source": [
        "km = input(\"Digite a quantidade de km percorridos: \")\n",
        "km = float(km)\n",
        "taxi_veiculo = taxi()\n",
        "print(taxi_veiculo.iniciar_veiculo())\n",
        "print(taxi_veiculo.parar_veiculo())\n",
        "print(taxi_veiculo.calcular_tarifa() * km)"
      ],
      "metadata": {
        "colab": {
          "base_uri": "https://localhost:8080/"
        },
        "id": "ZT1J-FGh3zYb",
        "outputId": "9d125b69-7773-4aa8-c653-5e0e4fde62ec"
      },
      "execution_count": null,
      "outputs": [
        {
          "output_type": "stream",
          "name": "stdout",
          "text": [
            "Digite a quantidade de km percorridos: 12\n",
            "Taxi disponivel para corrida.\n",
            "Taxi fora de servico.\n",
            "30.0\n"
          ]
        }
      ]
    }
  ]
}