{
  "nbformat": 4,
  "nbformat_minor": 0,
  "metadata": {
    "colab": {
      "provenance": [],
      "authorship_tag": "ABX9TyMyoacHYOU3fJepBF9QcXdT",
      "include_colab_link": true
    },
    "kernelspec": {
      "name": "python3",
      "display_name": "Python 3"
    },
    "language_info": {
      "name": "python"
    }
  },
  "cells": [
    {
      "cell_type": "markdown",
      "metadata": {
        "id": "view-in-github",
        "colab_type": "text"
      },
      "source": [
        "<a href=\"https://colab.research.google.com/github/igabrielaurelio/Python-Exercicios/blob/main/ABC.ipynb\" target=\"_parent\"><img src=\"https://colab.research.google.com/assets/colab-badge.svg\" alt=\"Open In Colab\"/></a>"
      ]
    },
    {
      "cell_type": "code",
      "execution_count": 1,
      "metadata": {
        "id": "y1WHYTSG3iTi"
      },
      "outputs": [],
      "source": [
        "from abc import ABC, abstractmethod\n",
        "#aluno: Gabriel Aurélio Vietehesky Silveira"
      ]
    },
    {
      "cell_type": "code",
      "source": [
        "class veiculo(ABC):\n",
        "\n",
        "    @abstractmethod\n",
        "    def iniciar_veiculo(self):\n",
        "        pass\n",
        "\n",
        "    @abstractmethod\n",
        "    def parar_veiculo(self):\n",
        "        pass\n",
        "\n",
        "    @abstractmethod\n",
        "    def calcular_tarifa(self):\n",
        "        pass\n",
        "\n",
        "class onibus(veiculo):\n",
        "\n",
        "    def iniciar_veiculo(self):\n",
        "        return \"Onibus iniciado.\"\n",
        "\n",
        "    def parar_veiculo(self):\n",
        "        return \"Onibus parado.\"\n",
        "\n",
        "    def calcular_tarifa(self):\n",
        "        return int(4)\n",
        "\n",
        "class trem(veiculo):\n",
        "\n",
        "    def iniciar_veiculo(self):\n",
        "        return \"Trem em operacao\"\n",
        "\n",
        "    def parar_veiculo(self):\n",
        "        return \"Trem fora de operacao\"\n",
        "\n",
        "    def calcular_tarifa(self):\n",
        "        return float(5.50)\n",
        "\n",
        "class taxi(veiculo):\n",
        "\n",
        "    def iniciar_veiculo(self):\n",
        "        return \"Taxi disponivel para corrida.\"\n",
        "\n",
        "    def parar_veiculo(self):\n",
        "        return \"Taxi fora de servico.\"\n",
        "\n",
        "    def calcular_tarifa(self):\n",
        "        return float(2.50)"
      ],
      "metadata": {
        "id": "rP_W1XDv3mtf"
      },
      "execution_count": 2,
      "outputs": []
    },
    {
      "cell_type": "code",
      "source": [
        "onibus_veiculo = onibus()\n",
        "print(onibus_veiculo.iniciar_veiculo())\n",
        "print(onibus_veiculo.parar_veiculo())\n",
        "print(onibus_veiculo.calcular_tarifa())"
      ],
      "metadata": {
        "colab": {
          "base_uri": "https://localhost:8080/"
        },
        "id": "vMSoqc-M3pBt",
        "outputId": "9f6c866e-f5fc-462b-9d68-d43421e37958"
      },
      "execution_count": 3,
      "outputs": [
        {
          "output_type": "stream",
          "name": "stdout",
          "text": [
            "Onibus iniciado.\n",
            "Onibus parado.\n",
            "4\n"
          ]
        }
      ]
    },
    {
      "cell_type": "code",
      "source": [
        "trem_veiculo = trem()\n",
        "print(trem_veiculo.iniciar_veiculo())\n",
        "print(trem_veiculo.parar_veiculo())\n",
        "print(trem_veiculo.calcular_tarifa())"
      ],
      "metadata": {
        "colab": {
          "base_uri": "https://localhost:8080/"
        },
        "id": "GXhWsvIB3uKz",
        "outputId": "608353ed-964b-44c1-cae0-f78f9f3e2738"
      },
      "execution_count": 4,
      "outputs": [
        {
          "output_type": "stream",
          "name": "stdout",
          "text": [
            "Trem em operacao\n",
            "Trem fora de operacao\n",
            "5.5\n"
          ]
        }
      ]
    },
    {
      "cell_type": "code",
      "source": [
        "km = input(\"Digite a quantidade de km percorridos: \")\n",
        "km = float(km)\n",
        "taxi_veiculo = taxi()\n",
        "print(taxi_veiculo.iniciar_veiculo())\n",
        "print(taxi_veiculo.parar_veiculo())\n",
        "print(taxi_veiculo.calcular_tarifa() * km)"
      ],
      "metadata": {
        "colab": {
          "base_uri": "https://localhost:8080/"
        },
        "id": "ZT1J-FGh3zYb",
        "outputId": "2039c493-8c2a-4323-a83f-bc5c9beab0dd"
      },
      "execution_count": 6,
      "outputs": [
        {
          "output_type": "stream",
          "name": "stdout",
          "text": [
            "Digite a quantidade de km percorridos: 5\n",
            "Taxi disponivel para corrida.\n",
            "Taxi fora de servico.\n",
            "12.5\n"
          ]
        }
      ]
    },
    {
      "cell_type": "markdown",
      "source": [],
      "metadata": {
        "id": "JEnkw5PhKN3D"
      }
    }
  ]
}